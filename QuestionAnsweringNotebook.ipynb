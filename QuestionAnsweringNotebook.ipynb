{
 "cells": [
  {
   "cell_type": "code",
   "execution_count": null,
   "id": "dada065d-47fc-4b2c-9934-ef6fa9b93dd8",
   "metadata": {},
   "outputs": [],
   "source": [
    "import sycamore\n",
    "import os\n",
    "from sycamore.transforms.partition import ArynPartitioner\n",
    "from sycamore.transforms.extract_schema import (\n",
    "    OpenAIPropertyExtractor,\n",
    ")\n",
    "from sycamore.llms import OpenAI, OpenAIModels\n",
    "from sycamore.data.element import Element\n",
    "from sycamore.data.document import Document\n",
    "from sycamore.functions import HuggingFaceTokenizer, OpenAITokenizer\n",
    "from sycamore.llms import OpenAI, OpenAIModels\n",
    "from sycamore.transforms.embed import SentenceTransformerEmbedder\n",
    "from sycamore.llms.prompts.default_prompts import LlmFilterMessagesJinjaPrompt\n",
    "from sycamore.llms.prompts.prompts import JinjaPrompt\n",
    "from sycamore.transforms.extract_entity import OpenAIEntityExtractor\n",
    "from sycamore.query.execution.operations import summarize_data\n",
    "from sycamore.transforms.summarize import MultiStepDocumentSummarizer, EtCetera, OneStepDocumentSummarizer\n",
    "from sycamore.llms.llms import LLMMode"
   ]
  },
  {
   "cell_type": "code",
   "execution_count": null,
   "id": "b0716549-20ce-45db-8d3d-8c3085e32ef9",
   "metadata": {},
   "outputs": [],
   "source": [
    "context = sycamore.init()\n",
    "initial_docset = (context.read\n",
    "                  .aryn(aryn_url=\"https://test-api.aryn.ai/v1/storage\", docset_id=\"<YOUR-DOCSET-ID>\", aryn_api_key=\"<YOUR-ARYN-API-KEY>\"))"
   ]
  },
  {
   "cell_type": "code",
   "execution_count": null,
   "id": "2d39829d-9df2-4ddd-8b72-682db0aa41ce",
   "metadata": {},
   "outputs": [],
   "source": [
    "def remove_original_elements(doc: Document):\n",
    "    del doc.properties['_original_elements']\n",
    "    return doc\n",
    "\n",
    "def filter_parent_documents(doc:Document):\n",
    "    return \"parent_id\" in doc\n",
    "    \n",
    "\n",
    "exploded_docset2 = initial_docset.map(remove_original_elements).spread_properties([\"earnings_calls\"]).explode().filter(filter_parent_documents)\n",
    "removed_orig_docset = initial_docset.map(remove_original_elements).spread_properties([\"earnings_calls\"])"
   ]
  },
  {
   "cell_type": "code",
   "execution_count": null,
   "id": "71f1ba91-fd8a-4ac8-ab20-1911a4e4113f",
   "metadata": {},
   "outputs": [],
   "source": [
    "from sycamore.llms import OpenAI, OpenAIModels\n",
    "oai = OpenAI(OpenAIModels.GPT_4O)"
   ]
  },
  {
   "cell_type": "code",
   "execution_count": null,
   "id": "74fb23b6-5703-4d10-94fb-432729c1c68f",
   "metadata": {},
   "outputs": [],
   "source": [
    "## Cell to answer question: tell me the number of customers MongoDB had at the end of Q1\n",
    "entity_extractor = OpenAIEntityExtractor(entity_name=\"num_customers\", llm=oai, num_of_elements=10,\n",
    "                      field = \"text_representation\", use_elements=True)\n",
    "                      \n",
    "\n",
    "mdb_docset = removed_orig_docset.filter( lambda doc: doc.properties['earnings_calls']['company_ticker'] == 'MDB' and doc.properties['earnings_calls']['quarter']=='Q1').extract_entity(entity_extractor)"
   ]
  },
  {
   "cell_type": "code",
   "execution_count": null,
   "id": "7814bb6e-63ea-48ed-b637-543a516b4175",
   "metadata": {},
   "outputs": [],
   "source": [
    "mdb_docset.take(1)[0].properties.get(\"num_customers\")"
   ]
  },
  {
   "cell_type": "code",
   "execution_count": null,
   "id": "fddbb1c1-4fe4-4aa1-a959-4c9e1e624e7b",
   "metadata": {},
   "outputs": [],
   "source": [
    "avgo_docset = removed_orig_docset.filter( lambda doc: doc.properties['earnings_calls']['company_ticker'] == 'AVGO').llm_filter(new_field=\"_autogen_LLMFilterOutput\",\n",
    "            prompt=LlmFilterMessagesJinjaPrompt.fork(filter_question=\"Does this mention the VMWare acquisition?\", use_elements=True),\n",
    "            field = \"text_representation\",\n",
    "            llm=oai,\n",
    "            keep_none=True)"
   ]
  },
  {
   "cell_type": "code",
   "execution_count": null,
   "id": "887bdb16-1a49-4eb8-bb6d-e663aad23d43",
   "metadata": {},
   "outputs": [],
   "source": [
    "## Cell to answer the question tell me the first earnings call where the VMWare acquisiton was mentioned\n",
    "from sycamore.transforms import DateTimeStandardizer\n",
    "\n",
    "def filterVMware(elem: Element) -> bool:\n",
    "  return \"VMware\" in elem.text_representation\n",
    "\n",
    "vwmare_docset_sorted = (removed_orig_docset\n",
    "                        .filter(lambda doc: doc.properties['earnings_calls']['company_ticker'] == 'AVGO')\n",
    "                        .filter_elements(filterVMware)\n",
    "                        .map(lambda doc: DateTimeStandardizer.standardize(doc, key_path = [\"properties\",\"earnings_calls\",\"date\"]))\n",
    "                        .sort(descending=False, field=\"properties.earnings_calls.dateTime\"))\n",
    "vwmare_docset_sorted.take(1)[0].properties['earnings_calls']['day']"
   ]
  },
  {
   "cell_type": "code",
   "execution_count": null,
   "id": "5d3de501-27cf-452a-8366-8d0ec60c307d",
   "metadata": {},
   "outputs": [],
   "source": [
    "## Cell to answer question summarize the impact of the VMWare acquisiton on Broadcom's earnings\n",
    "myprompt = JinjaPrompt(\n",
    "    system=\"You are a helpful financial assistant.\",\n",
    "    user=\"\"\"Here's an earnings call. Please answer the question {{ question }}\n",
    "            {% for elt in doc.elements %}\n",
    "            {{ elt.text_representation }}\n",
    "            {% endfor %}\"\"\",\n",
    "    question=\"Summarize the impact of the vmware acquisition on broadcom's earnings\"\n",
    ")\n",
    "\n",
    "vmware_acquistion_summary = (removed_orig_docset.filter(lambda doc: doc.properties['earnings_calls']['company_ticker'] == 'AVGO')\n",
    "                     .filter_elements(filterVMware)\n",
    "                     .llm_map(prompt=myprompt, output_field=\"acquisition_impact_summary\", llm=oai, llm_mode=LLMMode.ASYNC))\n"
   ]
  },
  {
   "cell_type": "code",
   "execution_count": null,
   "id": "41258275-d577-4ab8-902e-9a3d249bd7ca",
   "metadata": {},
   "outputs": [],
   "source": [
    "question = \"Summarize the impact of the vmware acquisition on broadcom's earnings. Give a 2 line summary for each quarter.\"\n",
    "data_desc = \"Broadcom earnings calls\"\n",
    "\n",
    "oai = OpenAI(OpenAIModels.GPT_4O)\n",
    "oaitk = OpenAITokenizer(OpenAIModels.GPT_4O.value.name, max_tokens=100_000)\n",
    "summarizer = MultiStepDocumentSummarizer(\n",
    "    llm=oai, \n",
    "    llm_mode=LLMMode.ASYNC, \n",
    "    question=question, \n",
    "    data_description=data_desc, \n",
    "    fields=['acquisition_impact_summary'],\n",
    "    tokenizer=oaitk\n",
    ")\n",
    "summarize_data(\n",
    "    llm=oai,\n",
    "    question=question,\n",
    "    data_description=data_desc,\n",
    "    input_data=[vmware_acquistion_summary],\n",
    "    docset_summarizer=summarizer\n",
    ")"
   ]
  },
  {
   "cell_type": "code",
   "execution_count": null,
   "id": "24fe8623-a63c-45ad-a973-8575fc23d57b",
   "metadata": {},
   "outputs": [],
   "source": [
    "## Cell to answer the question tell me how Intuit is integrating Intuit Assist (their new AI offering) into existing products\n",
    "intuit_prompt = JinjaPrompt(\n",
    "    system=\"You are a helpful financial assistant.\",\n",
    "    user=\"\"\"Here's an earnings call. Please answer the question {{ question }}\n",
    "            {% for elt in doc.elements %}\n",
    "            {{ elt.text_representation }}\n",
    "            {% endfor %}\"\"\",\n",
    "    question=\"Summarize how Intuit Assist is being integrated into Intuit's existing products\"\n",
    ")\n",
    "\n",
    "def filterForAssist(elem: Element) -> bool:\n",
    "  return \"Assist\" in elem.text_representation\n",
    "\n",
    "intuit_assist_summary = (removed_orig_docset.filter(lambda doc: doc.properties['earnings_calls']['company_ticker'] == 'INTU')\n",
    "                     .filter_elements(filterForAssist)\n",
    "                     .llm_map(prompt=intuit_prompt, output_field=\"intuit_assist_summary\", llm=oai, llm_mode=LLMMode.ASYNC))"
   ]
  },
  {
   "cell_type": "code",
   "execution_count": null,
   "id": "58861b0a-6942-43bb-a91f-b97988fba504",
   "metadata": {},
   "outputs": [],
   "source": [
    "question = \"Summarize how Intuit is integrating its AI assistant, Intuit Assist into its existing products. Give a 3 line summary for each quarter on the progress of the integration.\"\n",
    "data_desc = \"Intuit Assist integration\"\n",
    "\n",
    "oai = OpenAI(OpenAIModels.GPT_4O)\n",
    "oaitk = OpenAITokenizer(OpenAIModels.GPT_4O.value.name, max_tokens=100_000)\n",
    "summarizer = MultiStepDocumentSummarizer(\n",
    "    llm=oai, \n",
    "    llm_mode=LLMMode.ASYNC, \n",
    "    question=question, \n",
    "    data_description=data_desc, \n",
    "    fields=['intuit_assist_summary'],\n",
    "    tokenizer=oaitk\n",
    ")\n",
    "summarize_data(\n",
    "    llm=oai,\n",
    "    question=question,\n",
    "    data_description=data_desc,\n",
    "    input_data=[intuit_assist_summary],\n",
    "    docset_summarizer=summarizer\n",
    ")"
   ]
  },
  {
   "cell_type": "code",
   "execution_count": null,
   "id": "c7c7d15d-dcfa-4bd6-a210-824aca1af220",
   "metadata": {},
   "outputs": [],
   "source": [
    "## Cell to answer the question 'Return all the companies that mentioned inflation and return a count of the number of times inflation was mentioned'\n",
    "inflation_mentioned = (exploded_docset2.filter(lambda element: 'inflation' in element.text_representation.lower())\n",
    "                     .groupby_count(field='properties.earnings_calls.company_name'))\n",
    "inflation_mentioned.show()"
   ]
  },
  {
   "cell_type": "code",
   "execution_count": null,
   "id": "d66caeeb-cbe3-4f92-862f-33923012e1c6",
   "metadata": {
    "scrolled": true
   },
   "outputs": [],
   "source": [
    "## Answering the same question with a LLMFilter. This is super slow. Need to figure out why. \n",
    "im = exploded_docset2.llm_filter(\n",
    "    llm=oai,\n",
    "    new_field=\"inflation_mentioned_confidence\",\n",
    "    prompt = LlmFilterMessagesJinjaPrompt.fork(filter_question=\"Does this text mention inflation?\", use_elements=False),\n",
    "    llm_mode = LLMMode.ASYNC\n",
    ").groupby_count(field='properties.earnings_calls.company_name')\n",
    "im.show()"
   ]
  },
  {
   "cell_type": "code",
   "execution_count": null,
   "id": "dfb7ebb2-c6e8-4d6a-bf97-065e5fe46de1",
   "metadata": {},
   "outputs": [],
   "source": []
  }
 ],
 "metadata": {
  "kernelspec": {
   "display_name": "Python 3 (ipykernel)",
   "language": "python",
   "name": "python3"
  },
  "language_info": {
   "codemirror_mode": {
    "name": "ipython",
    "version": 3
   },
   "file_extension": ".py",
   "mimetype": "text/x-python",
   "name": "python",
   "nbconvert_exporter": "python",
   "pygments_lexer": "ipython3",
   "version": "3.11.11"
  }
 },
 "nbformat": 4,
 "nbformat_minor": 5
}
