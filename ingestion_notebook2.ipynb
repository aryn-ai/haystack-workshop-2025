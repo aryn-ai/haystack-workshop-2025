{
 "cells": [
  {
   "cell_type": "code",
   "execution_count": null,
   "id": "e125e63f-cf61-474d-b6a8-361c154c7588",
   "metadata": {},
   "outputs": [],
   "source": [
    "# First, let's explore the data. By now you should have downloaded some pdf files, so let's look at one of them.\n",
    "# This also tests that you have poppler installed.\n",
    "from error_messages import *\n",
    "from IPython.display import display\n",
    "from pathlib import Path\n",
    "import os\n",
    "\n",
    "repo_root = Path.cwd()\n",
    "pdf_dir = repo_root / \"files\" / \"earnings_calls\"\n",
    "one_pdf = pdf_dir / \"broadcom-avgo-q1-2024-earnings-call-transcript.pdf\"\n",
    "one_pdf"
   ]
  },
  {
   "cell_type": "code",
   "execution_count": null,
   "id": "061bdae1-7302-4bb2-a3f5-e034d92fab16",
   "metadata": {},
   "outputs": [],
   "source": [
    "from pdf2image import convert_from_path\n",
    "## print the first two pages of the broadcom earnings call.\n",
    "try:\n",
    "    ims = convert_from_path(one_pdf)\n",
    "    display(ims[0])\n",
    "    display(ims[1])\n",
    "except Exception as e:\n",
    "    poppler_failed_error()\n",
    "    print(e)"
   ]
  },
  {
   "cell_type": "markdown",
   "id": "098bfc48-9726-4b56-879d-b253912b7b41",
   "metadata": {},
   "source": [
    "You'll notice that this earnings call is a transcript of a conversation between several different people. This document specifically focuses on Broadcom's earnings in Q1 in 2024. In this particular quarter, Broadcom's VMware acquisition is a hot topic and analysts are asking the CEO (Hock Tan) and the CFO (Kristen Spears) about Broadcom's strategy behind the VMware acquisiton. The rest of this notebook will walk you through how to use Aryn to programatically answer the following question:\n",
    "\n",
    "1. What details did the CFO, Kristen Spears, discuss about the VMware acqusition?"
   ]
  },
  {
   "cell_type": "markdown",
   "id": "4c4703e5-cbb2-4965-9658-397a248fc0b9",
   "metadata": {},
   "source": [
    "## Partitioning\n",
    "\n",
    "As you probably noticed, the PDF is just a bunch of unstructured text that's not easy to process. If we want to answer this question (and many others), the first step is to turn this document into a more structured format. Here, we'll use Aryn DocParse which breaks a document up into cohesive _elements_. There are a number of strategies for doing this, but we've found success with visual models. For this workshop we'll use Aryn DocParse for this first step. "
   ]
  },
  {
   "cell_type": "code",
   "execution_count": null,
   "id": "9133c806-2887-4e15-b577-effd0734282f",
   "metadata": {},
   "outputs": [],
   "source": [
    "# Get started with aryn_sdk. \n",
    "# This will also make sure your credentials are set correctly.\n",
    "from aryn_sdk.partition import partition_file\n",
    "\n",
    "try:\n",
    "    data = partition_file(one_pdf)\n",
    "    elements = data['elements']\n",
    "except Exception as e:\n",
    "    aryn_no_api_key_error()\n",
    "    print(e)"
   ]
  },
  {
   "cell_type": "code",
   "execution_count": null,
   "id": "3d55ce79-a3e2-4fda-bb38-b30a9eee0d95",
   "metadata": {},
   "outputs": [],
   "source": [
    "# We can visualize the elements by drawing the bounding boxes onto the pdf. aryn_sdk has a function for that.\n",
    "from aryn_sdk.partition import draw_with_boxes\n",
    "\n",
    "graffitied_pages = draw_with_boxes(one_pdf, data)\n",
    "display(graffitied_pages[0])"
   ]
  },
  {
   "cell_type": "markdown",
   "id": "862e3f99-244d-49be-b684-a4ddf4b4c230",
   "metadata": {},
   "source": [
    "Here, we've printed page 1 of the Broadcom earnings call. If you scroll through, you'll notice several bounding boxes that denote the elements that DocParse detected. Each element contains a bunch of information. Core information includes `type`, `bbox`, and `text_representation`. Additional information is stored in a `properties` dict, such as the page number the element is on. Let's look at the JSON representation of the first element that DocParse detected. "
   ]
  },
  {
   "cell_type": "code",
   "execution_count": null,
   "id": "9f5ce8b1-2289-4729-aeda-210ab0b77aa8",
   "metadata": {},
   "outputs": [],
   "source": [
    "print(elements[0])"
   ]
  },
  {
   "cell_type": "markdown",
   "id": "655af8a4-50db-4db0-9d91-06ad2396ce73",
   "metadata": {},
   "source": [
    "You'll notice that DocParse detected an image at the top of the page and it returned some information about that element such as its bounding box etc. Let's have a quick quiz to introduce elements. I've created a bunch of functions that operate on the list of elements returned by the partitioner. Your job is to implement them."
   ]
  },
  {
   "cell_type": "code",
   "execution_count": null,
   "id": "78a96787-a725-41ce-ac3f-7f522f70b5e9",
   "metadata": {},
   "outputs": [],
   "source": [
    "def number_of_page_headers(elts: list[dict]) -> int:\n",
    "    \"\"\"Return the number of elements of type 'Page-header'\"\"\"\n",
    "\n",
    "    raise NotImplementedError(\"Finish this yourself\")\n",
    "        \n",
    "    \n",
    "def number_of_elements_after_page_4(elts: list[dict]) -> int:\n",
    "    \"\"\"Return the number of elements that fall after page 4. Note that page numbers are 1-indexed.\"\"\"\n",
    "    \n",
    "    raise NotImplementedError(\"Finish this yourself\")\n",
    "\n",
    "def number_of_vmware_mentions(elts: list[dict]) -> int:\n",
    "    \"\"\"Return the number of elements that mention 'vmware' (this is case insensitive, so count 'VMware' and 'vmware')\n",
    "    Note: some elements do not have a 'text_representation' key.\"\"\"\n",
    "    \n",
    "    raise NotImplementedError(\"Finish this yourself\")\n",
    "    \n",
    "\n",
    "def number_of_elements_that_cover_a_third_of_the_page(elts: list[dict]) -> int:\n",
    "    \"\"\"For this you'll need the bbox property. bboxes are represented as 4 floats, [x1, y1, x2, y2]. Each \n",
    "    coordinate ranges from 0 to 1, representing the fraction of the page (left-to-right for x, top-to-bottom for y) \n",
    "    where the point lies. So [0, 0, 1, 1] is the whole page, and [0, 0.5, 0.5, 1] is the lower-left quadrant.\n",
    "    \n",
    "    Return the number of elements that cover at least a third of the page. An element covers a third of the page if its \n",
    "    area is greater than 1/3\"\"\"\n",
    "\n",
    "    raise NotImplementedError(\"Finish this yourself\")\n",
    "\n",
    "\n",
    "assert number_of_page_headers(elements) == 2, f\"Got {number_of_page_headers(elements)}. Make sure your capitalization is correct.\"\n",
    "\n",
    "assert number_of_elements_after_page_4(elements) == 232, f\"Got {number_of_elements_after_page_4(elements)}. If you got 241, 'after page 4' does not include page 4, and page numbers are 1-indexed.\"\n",
    "\n",
    "assert number_of_vmware_mentions(elements) == 24, f\"Got {number_of_vmware_mentions(elements)}. A 'vwmare mention' is defined as an element whose text contains the string 'VMware'.\"\n",
    "\n",
    "assert number_of_elements_that_cover_a_third_of_the_page(elements) == 1, f\"Got {number_of_elements_that_cover_a_third_of_the_page(elements)}\""
   ]
  },
  {
   "cell_type": "markdown",
   "id": "4694dcb4-a315-4561-9102-74ef3f4b467c",
   "metadata": {},
   "source": [
    "## Sycamore basics\n",
    "\n",
    "By now you have a basic sense of the data model - a Document is made up of Elements which represent logical chunks of the Document, and contain additional metadata about themselves.\n",
    "The next step is to scale this past one document to many, and this is where Sycamore comes in. Sycamore adds a data structure called a DocSet, which is a set of Documents.\n",
    "Each Document in the DocSet contains the list of Elements that it comprises, and a bunch of metadata as well (for instance, the name of the file the document came from).\n",
    "\n",
    "Now let's use Sycamore to read the Broadcom earnings call into a  DocSet."
   ]
  },
  {
   "cell_type": "code",
   "execution_count": null,
   "id": "bf94275e-d373-4b65-8d65-6de4915bc448",
   "metadata": {},
   "outputs": [],
   "source": [
    "import sycamore\n",
    "context = sycamore.init()\n",
    "pdf_docset = context.read.binary(paths=str(one_pdf), binary_format=\"pdf\")\n",
    "\n",
    "# Let's see what that gave us\n",
    "pdf_docset.show()"
   ]
  },
  {
   "cell_type": "markdown",
   "id": "babf720b-bece-4598-897d-8be6d657368f",
   "metadata": {},
   "source": [
    "Our docset has a single Document in it, with a 'properties' dict containing some metadata, an 'elements' list containing an empty list of elements, a doc_id, lineage_id, type, and binary_representation, which contains the binary of the original PDF. Now let's use sycamore to send the PDFs to DocParse and get the elements as we did before. To do so, we'll run the `partition` transform."
   ]
  },
  {
   "cell_type": "code",
   "execution_count": null,
   "id": "fab95724-1f57-4771-ac33-0ae0bbba29f6",
   "metadata": {},
   "outputs": [],
   "source": [
    "from sycamore.transforms.partition import ArynPartitioner\n",
    "\n",
    "# If you did not see the error message about API keys, ignore this comment.\n",
    "# You might need to add aryn_api_key=\"<YOUR KEY>\" if the environment didn't pick it up correctly. \n",
    "partitioned_docset = pdf_docset.partition(ArynPartitioner())\n",
    "\n",
    "# We'll limit the number of elements to show because otherwise this produces an obnoxiously large output cell\n",
    "partitioned_docset.show(num_elements=3)"
   ]
  },
  {
   "cell_type": "code",
   "execution_count": null,
   "id": "c3769420-339c-4d9b-abb8-59c5d063d08a",
   "metadata": {},
   "outputs": [],
   "source": [
    "#Let's view the bounding boxes drawn on the pdf using sycamore\n",
    "from sycamore.utils.pdf_utils import show_pages\n",
    "\n",
    "show_pages(partitioned_docset)"
   ]
  },
  {
   "cell_type": "markdown",
   "id": "a5d7f7bd-d462-442d-8fef-f873b11d1f60",
   "metadata": {},
   "source": [
    "Now to answer our questions about the discussion in the earnings calls, you'll notice that only certain elements actually matter. In fact, outside of the `Section-Header` and `Text` elements, we can just filter out all the other elements. What you may have noticed is we're now just applying a set of successive tranforms to our DocSet after loading it in. First, we partitioned it and now we're filtering some elements. In fact the recommended way to work with Sycamore is to write a pipeline of transforms on a DocSet as you process it. So now let's apply a `filter_elements` transform on our partitioned_docset to remove all the unnecessary elements."
   ]
  },
  {
   "cell_type": "code",
   "execution_count": null,
   "id": "bea852e3-4650-4f49-b45d-d6e2d3f45e38",
   "metadata": {},
   "outputs": [],
   "source": [
    "from sycamore.data import Element\n",
    "\n",
    "def filter_in_discussions(elt: Element) -> bool:\n",
    "    return elt.type in (\"Section-header\", \"Text\")\n",
    "\n",
    "# docset.filter_elements takes a predicate function that maps Elements to bools. \n",
    "# For each element in a document, keep the element only if predicate(element) is True.\n",
    "filtered_ds = partitioned_docset.filter_elements(filter_in_discussions)"
   ]
  },
  {
   "cell_type": "markdown",
   "id": "47385232-a9fa-4ead-90ed-1b44c2670788",
   "metadata": {},
   "source": [
    "### Chunking\n",
    "Great! Now we've introduced the Data Model of Sycamore and discussed how to use it to call DocParse to break up a complex document into its separate components. Let's now go back to a particular question we were trying to answer: \"What details did the CFO, Kisten Spears, discuss about the VMware acqusition?\" If you inspect page 4 you'll notice that in the last element that DocParse detected, Spears actually mentions the answer. "
   ]
  },
  {
   "cell_type": "code",
   "execution_count": null,
   "id": "3419b5e8-e3d6-4490-9bbe-62f48847d1c5",
   "metadata": {},
   "outputs": [],
   "source": [
    "display(graffitied_pages[3])"
   ]
  },
  {
   "cell_type": "markdown",
   "id": "d39362a0-c49d-415f-8bd9-c50f9b0c6cfb",
   "metadata": {},
   "source": [
    "Now, for our question answering system to be able to detect that this is element where Kristen Spears discusses the VMWare acquistion, we'll need a way to associate the \"speaker element\" that is a few paragraphs above it, with this last element. The way to do that is through chunking. Sycamore implements a number of chunking strategies (documentation [here](https://sycamore.readthedocs.io/en/stable/sycamore/APIs/low_level_transforms/merge_elements.html)). \n",
    "For this workshop we will use the `MarkedMerger` as it is the most customizable.\n",
    "\n",
    "As mentioned before, to be able to answer questions like the one about Kristen Spears we'll chunk such tht for each speaker 'block' we  get a chunk. In our partitioning we have split the text into paragraphs, but we'd like \n",
    "to squish all those paragraphs together, breaking the blocks wherever there's a new speaker. With a little bit of effort we can detect the lines that introduce speakers with regexes - one for external\n",
    "speakers and one for internal speakers, as the formatting is very consistent (this applies across all the documents in the dataset, don't worry):\n",
    "\n",
    "```python\n",
    "external_re = '([^ ]*[^\\S\\n\\t]){1,4}--[^\\S\\n\\t].*--' # A name (1-4 words long) followed by -- followed by anything followed by --\n",
    "internal_re = '([^ ]*[^\\S\\n\\t]){1,4}--.*'            # A name (1-4 words long) followed by -- followed by anything\n",
    "```\n",
    "\n",
    "The `MarkedMerger` is set up perfectly to work with this. It will step through the elements, merging them together one by one, unless it sees one of two 'marks' in the data:\n",
    "\n",
    "- on a \"_drop\" mark it drops the element and continues merging\n",
    "- on a \"_break\" mark it finalizes the merged element and uses this one to start merging up a new element"
   ]
  },
  {
   "cell_type": "code",
   "execution_count": null,
   "id": "f69c9ce8-12ce-4963-9241-bf17f18da477",
   "metadata": {},
   "outputs": [],
   "source": [
    "import re\n",
    "from sycamore.transforms.merge_elements import MarkedMerger\n",
    "\n",
    "\n",
    "def markSpeakers(elt: Element) -> Element:\n",
    "    if not elt.text_representation:\n",
    "        return elt\n",
    "\n",
    "    external_speaker = re.match('([^ ]*[^\\S\\n\\t]){1,4}--[^\\S\\n\\t].*--', elt.text_representation)\n",
    "    internal_speaker = re.match('([^ ]*[^\\S\\n\\t]){1,4}--.*', elt.text_representation)\n",
    "    if elt.text_representation.strip() == 'Operator':\n",
    "        elt.properties['speaker_name'] = 'Operator'\n",
    "        elt.properties['speaker_role'] = 'Operator'\n",
    "        elt.properties['speaker'] = True\n",
    "        elt.data[\"_break\"] = True\n",
    "    elif external_speaker:\n",
    "        location = elt.text_representation.find('--')\n",
    "        location2 = location + elt.text_representation[location+2:].find('--')\n",
    "        elt.properties['speaker_name'] = elt.text_representation[:location].strip()\n",
    "        elt.properties['speaker_external_org'] = elt.text_representation[location+2:location2+1].strip()\n",
    "        elt.properties['speaker_role'] = elt.text_representation[location2+4:].strip()\n",
    "        elt.properties['speaker'] = True\n",
    "        elt.data[\"_break\"] = True\n",
    "    elif internal_speaker:\n",
    "        location = elt.text_representation.find('--')\n",
    "        elt.properties['speaker_name'] = elt.text_representation[:location].strip()\n",
    "        elt.properties['speaker_role'] = elt.text_representation[location+2:].strip()\n",
    "        elt.properties['speaker'] = True\n",
    "        elt.data[\"_break\"] = True\n",
    "    return elt\n",
    "\n",
    "speakers_marked_ds = filtered_ds.map_elements(markSpeakers)\n",
    "merged_ds = speakers_marked_ds.merge(MarkedMerger())"
   ]
  },
  {
   "cell_type": "markdown",
   "id": "6a82cdce-db9d-4345-8f11-9377ab79be0f",
   "metadata": {},
   "source": [
    "Now to answer the question \"What details did the CFO, Kirsten Spears, discuss about the VMware acqusition?\" let's run a simple filter_elements transform on the last docset."
   ]
  },
  {
   "cell_type": "code",
   "execution_count": null,
   "id": "b3715f8b-ab91-4379-b3b8-e6b88f3df23b",
   "metadata": {},
   "outputs": [],
   "source": [
    "merged_ds.show()"
   ]
  },
  {
   "cell_type": "code",
   "execution_count": null,
   "id": "f0c6bf5e-910d-4827-9b85-738a9e3ab280",
   "metadata": {},
   "outputs": [],
   "source": [
    "ks_acquisition = merged_ds.filter_elements(lambda e: \n",
    "                          ('speaker' in e.properties and e.properties['speaker_name'] == 'Kirsten Spears' and 'vmware' in e.text_representation.lower()))\n",
    "ks_acquisition.show()"
   ]
  },
  {
   "cell_type": "code",
   "execution_count": null,
   "id": "f4c4604d-0ebd-4071-83d2-3d6ce06f28f6",
   "metadata": {},
   "outputs": [],
   "source": [
    "## Given that it's just 1 element let's see if the VMware acquisition shows up!\n",
    "ks_acquisition.take_all()[0]['elements'][0].text_representation"
   ]
  }
 ],
 "metadata": {
  "kernelspec": {
   "display_name": "Python 3 (ipykernel)",
   "language": "python",
   "name": "python3"
  },
  "language_info": {
   "codemirror_mode": {
    "name": "ipython",
    "version": 3
   },
   "file_extension": ".py",
   "mimetype": "text/x-python",
   "name": "python",
   "nbconvert_exporter": "python",
   "pygments_lexer": "ipython3",
   "version": "3.11.11"
  }
 },
 "nbformat": 4,
 "nbformat_minor": 5
}
