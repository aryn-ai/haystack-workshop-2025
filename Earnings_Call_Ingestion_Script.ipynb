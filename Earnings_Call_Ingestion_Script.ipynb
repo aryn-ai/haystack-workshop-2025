{
 "cells": [
  {
   "cell_type": "code",
   "execution_count": null,
   "id": "8c351421-90b1-421a-8ba3-7abe33c7ce7a",
   "metadata": {},
   "outputs": [],
   "source": [
    "import os\n",
    "from pathlib import Path\n",
    "\n",
    "import sycamore\n",
    "from sycamore.transforms.partition import ArynPartitioner\n",
    "from sycamore.transforms.extract_schema import (\n",
    "    OpenAIPropertyExtractor,\n",
    ")\n",
    "from sycamore.llms import OpenAI, OpenAIModels\n",
    "from sycamore.data.element import Element\n",
    "from sycamore.data.document import Document\n",
    "from sycamore.functions import HuggingFaceTokenizer, OpenAITokenizer\n",
    "from sycamore.llms import OpenAI, OpenAIModels\n",
    "from sycamore.transforms.embed import SentenceTransformerEmbedder\n",
    "from aryn_sdk.client.client import Client\n",
    "from sycamore.transforms.embed import OpenAIEmbedder\n",
    "from sycamore import MaterializeSourceMode"
   ]
  },
  {
   "cell_type": "code",
   "execution_count": null,
   "id": "d6450533-a80a-4ffe-9101-97d2b017929f",
   "metadata": {},
   "outputs": [],
   "source": [
    "aryn_api_key=\"<REDACTED>\"\n",
    "prod_api_key=aryn_api_key # set this to a prod key while we're testing in test\n",
    "paths = \"files/actual_files/\"\n",
    "docset_name = \"haystack_4_0_1\"\n",
    "materialize_dir = Path(\"materialize\")"
   ]
  },
  {
   "cell_type": "code",
   "execution_count": null,
   "id": "558b6660-c646-47b7-9f0a-08ab39c42606",
   "metadata": {},
   "outputs": [],
   "source": [
    "## Set your api-keys. You'll need an ARYN_API_KEY and an OPENAI_API_KEY\n",
    "context = sycamore.init()\n",
    "initial_docset = context.read.binary(paths, binary_format=\"pdf\")"
   ]
  },
  {
   "cell_type": "code",
   "execution_count": null,
   "id": "b497902d-6f93-40f1-b4e6-b24ef7d096d0",
   "metadata": {},
   "outputs": [],
   "source": [
    "tokenizer = OpenAITokenizer(OpenAIModels.GPT_4O.value.name)\n",
    "llm = OpenAI(OpenAIModels.GPT_4O.value)"
   ]
  },
  {
   "cell_type": "code",
   "execution_count": null,
   "id": "4de771fb-da21-4855-beba-a4a5d49d338c",
   "metadata": {},
   "outputs": [],
   "source": [
    "schema_json = {\n",
    "        \"type\": \"object\",\n",
    "        \"properties\": {\n",
    "            \"company_name\": {\"type\": \"string\", \"description\": \"name of the  company\"},\n",
    "            \"company_ticker\": {\"type\": \"string\", \"description\": \"Ticker of the  company\"},\n",
    "            \"quarter\": {\n",
    "                \"type\": \"string\",\n",
    "                \"description\": \"Quarter of the earnings call, it should be in the format of Q1, Q2, Q3, Q4\",\n",
    "            },\n",
    "            \"date\":{\"type\": \"string\", \"description\": \"The date of the earnings call\"}\n",
    "        },\n",
    "    }"
   ]
  },
  {
   "cell_type": "code",
   "execution_count": null,
   "id": "533f2ff7-0a6e-4032-91c0-7aa6b35bfc34",
   "metadata": {},
   "outputs": [],
   "source": [
    "partitioned_docset = (initial_docset.partition(partitioner=ArynPartitioner(aryn_api_key=prod_api_key))\n",
    "                      .materialize(path=materialize_dir / \"partitioned\", source_mode=MaterializeSourceMode.USE_STORED)\n",
    "                      .split_elements(tokenizer=tokenizer, max_tokens=512)\n",
    "                      .extract_properties(property_extractor=OpenAIPropertyExtractor(llm=llm, schema=schema_json, schema_name=\"earnings_call\")))"
   ]
  },
  {
   "cell_type": "code",
   "execution_count": null,
   "id": "cf5413c3-cb14-4bf5-917d-125784096c26",
   "metadata": {},
   "outputs": [],
   "source": [
    "def filter_out_cruft(elem: Element) -> bool:\n",
    "    return elem.type not in ('Image', 'Page-footer', 'Footnote', 'Page-header', 'Caption')\n",
    "\n",
    "filtered_docset = partitioned_docset.filter_elements(filter_out_cruft)"
   ]
  },
  {
   "cell_type": "code",
   "execution_count": null,
   "id": "27170a2a-47f1-4f19-93b0-1c314757e284",
   "metadata": {},
   "outputs": [],
   "source": [
    "## Replace [^ ]*[^\\S\\n\\t][^ ]*[^\\S\\n\\t]--[^\\S\\n\\t][^ ]*\n",
    "import re\n",
    "from sycamore.data import Document, Element\n",
    "def markSpeakers(doc: Element) -> Element:\n",
    "    if not doc.text_representation:\n",
    "        return doc\n",
    "\n",
    "    external_speaker = re.match('([^ ]*[^\\S\\n\\t]){1,4}--[^\\S\\n\\t].*--', doc.text_representation)\n",
    "    internal_speaker = re.match('([^ ]*[^\\S\\n\\t]){1,4}--.*', doc.text_representation)\n",
    "    if doc.text_representation.strip() == 'Operator':\n",
    "        doc.properties['speaker'] = True\n",
    "        doc.properties['speaker_role'] = 'Operator'\n",
    "        doc.properties['speaker_name'] = 'Operator'\n",
    "        doc.data[\"_break\"] = True\n",
    "    elif external_speaker:\n",
    "        location = doc.text_representation.find('--')\n",
    "        location2 = location + doc.text_representation[location+2:].find('--')\n",
    "        doc.properties['speaker_name'] = doc.text_representation[:location].strip()\n",
    "        doc.properties['speaker_external_org'] = doc.text_representation[location+2:location2+1].strip()\n",
    "        doc.properties['speaker_role'] = doc.text_representation[location2+4:].strip()\n",
    "        doc.properties['speaker'] = True\n",
    "        doc.data[\"_break\"] = True\n",
    "    elif internal_speaker:\n",
    "        location = doc.text_representation.find('--')\n",
    "        doc.properties['speaker_name'] = doc.text_representation[:location].strip()\n",
    "        doc.properties['speaker_role'] = doc.text_representation[location+2:].strip()\n",
    "        doc.properties['speaker'] = True\n",
    "        doc.data[\"_break\"] = True\n",
    "    return doc\n",
    "\n",
    "speakers_marked_ds = filtered_docset.map_elements(markSpeakers)"
   ]
  },
  {
   "cell_type": "code",
   "execution_count": null,
   "id": "a8432337-535a-422e-a94f-d03a21ef78c5",
   "metadata": {},
   "outputs": [],
   "source": [
    "from sycamore.transforms.merge_elements import MarkedMerger\n",
    "\n",
    "merged_ds = speakers_marked_ds.merge(MarkedMerger())"
   ]
  },
  {
   "cell_type": "code",
   "execution_count": null,
   "id": "4592cced-30f4-4ac2-9333-e2d779754b53",
   "metadata": {},
   "outputs": [],
   "source": [
    "# This transform moves a bunch of properties to a nested dict properties.entity. \n",
    "# Useful for making sure some downstream processing works correctly\n",
    "def prop_to_entity(props: list[str]):\n",
    "    def prop_to_entity_inner(doc_or_elt):\n",
    "        if \"entity\" not in doc_or_elt.properties:\n",
    "            doc_or_elt.properties[\"entity\"] = {}\n",
    "        if not isinstance(doc_or_elt.properties[\"entity\"], dict):\n",
    "            doc_or_elt.properties[\"entity\"] = {\"original_entity\": doc_or_elt.properties.pop(\"entity\")}\n",
    "        for p in props:\n",
    "            if p in doc_or_elt.properties:\n",
    "                doc_or_elt.properties[\"entity\"][p] = doc_or_elt.properties.pop(p)\n",
    "        return doc_or_elt\n",
    "    return prop_to_entity_inner\n",
    "\n",
    "rejiggered_ds = merged_ds.map(prop_to_entity([\"earnings_call\"])).spread_properties([\"path\", \"entity\"]).map_elements(prop_to_entity([\"speaker\", \"speaker_role\", \"speaker_name\", \"speaker_external_org\"]))"
   ]
  },
  {
   "cell_type": "code",
   "execution_count": null,
   "id": "9cec59d1-f457-4509-98f2-ac8b62cdf19c",
   "metadata": {},
   "outputs": [],
   "source": [
    "model_name = \"text-embedding-3-small\"\n",
    "myClient = Client(aryn_url=\"https://test-api.aryn.ai\", aryn_api_key=aryn_api_key)\n",
    "docset = myClient.create_docset(name=docset_name)"
   ]
  },
  {
   "cell_type": "code",
   "execution_count": null,
   "id": "f2871d26-680a-47c2-b6b1-1ccaafa1f0e2",
   "metadata": {},
   "outputs": [],
   "source": [
    "rejiggered_ds.embed(embedder=OpenAIEmbedder(model_name=model_name)).write.aryn(aryn_url=\"https://test-api.aryn.ai/v1/storage\", docset_id=docset.value.docset_id, aryn_api_key=aryn_api_key, autoschema=True)"
   ]
  },
  {
   "cell_type": "code",
   "execution_count": null,
   "id": "649a0eaa-4165-49ef-b4f2-c587530fe413",
   "metadata": {},
   "outputs": [],
   "source": [
    "docset = myClient.get_docset(docset_id=docset.value.docset_id)"
   ]
  },
  {
   "cell_type": "code",
   "execution_count": null,
   "id": "add93321-626e-4477-a2d5-15ab2be74852",
   "metadata": {},
   "outputs": [],
   "source": [
    "docset.value"
   ]
  },
  {
   "cell_type": "code",
   "execution_count": null,
   "id": "27d62142-1ef2-47b4-855d-68b477896c77",
   "metadata": {},
   "outputs": [],
   "source": [
    "docset.value.docset_id"
   ]
  },
  {
   "cell_type": "code",
   "execution_count": null,
   "id": "30142d5b-7564-4360-9533-b2d5a0ab35ed",
   "metadata": {},
   "outputs": [],
   "source": []
  }
 ],
 "metadata": {
  "kernelspec": {
   "display_name": "Python 3 (ipykernel)",
   "language": "python",
   "name": "python3"
  },
  "language_info": {
   "codemirror_mode": {
    "name": "ipython",
    "version": 3
   },
   "file_extension": ".py",
   "mimetype": "text/x-python",
   "name": "python",
   "nbconvert_exporter": "python",
   "pygments_lexer": "ipython3",
   "version": "3.11.11"
  }
 },
 "nbformat": 4,
 "nbformat_minor": 5
}
