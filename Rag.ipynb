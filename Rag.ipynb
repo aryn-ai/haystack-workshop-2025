{
 "cells": [
  {
   "cell_type": "code",
   "execution_count": null,
   "id": "e87e1164-5824-4ac0-b428-464dde363b91",
   "metadata": {},
   "outputs": [],
   "source": [
    "from aryn_sdk.client.client import Client\n",
    "from aryn_sdk.types.search import SearchRequest\n",
    "from sycamore.llms.openai import OpenAI, OpenAIModels\n",
    "from sycamore.llms.prompts.prompts import RenderedPrompt, RenderedMessage\n",
    "import rich"
   ]
  },
  {
   "cell_type": "code",
   "execution_count": null,
   "id": "b591c76c-f416-403f-93db-634420d1a789",
   "metadata": {},
   "outputs": [],
   "source": [
    "aryn_test_key = \"<REDACTED>\""
   ]
  },
  {
   "cell_type": "code",
   "execution_count": null,
   "id": "db3fc3ba-6494-46a5-9530-9448e46cf329",
   "metadata": {},
   "outputs": [],
   "source": [
    "oai = OpenAI(OpenAIModels.GPT_4O)"
   ]
  },
  {
   "cell_type": "code",
   "execution_count": null,
   "id": "558c68e9-360f-4763-9dfc-355e66b8816d",
   "metadata": {},
   "outputs": [],
   "source": [
    "aryn_client = Client(aryn_url=\"https://test-api.aryn.ai\", aryn_api_key=aryn_test_key)"
   ]
  },
  {
   "cell_type": "code",
   "execution_count": null,
   "id": "494140ac-26de-4e5e-88f4-7d8af4c8f221",
   "metadata": {},
   "outputs": [],
   "source": [
    "dtable = rich.table.Table(title=\"Docsets\")\n",
    "dtable.add_column(\"docset_id\")\n",
    "dtable.add_column(\"name\")\n",
    "dtable.add_column(\"created_at\")\n",
    "dtable.add_column(\"size\")\n",
    "\n",
    "for ds in aryn_client.list_docsets():\n",
    "    dtable.add_row(ds.docset_id, ds.name, ds.created_at.isoformat(), str(ds.size))\n",
    "\n",
    "rich.console.Console().print(dtable)"
   ]
  },
  {
   "cell_type": "code",
   "execution_count": null,
   "id": "ebda85a8-c88e-4758-9aa0-3dbe4edf735c",
   "metadata": {},
   "outputs": [],
   "source": [
    "docset_id = \"aryn:ds-4tu7utxr3u21r0q15iz91zn\""
   ]
  },
  {
   "cell_type": "code",
   "execution_count": null,
   "id": "bf21580d-885c-4aea-bb03-2cf39ca0d3f7",
   "metadata": {},
   "outputs": [],
   "source": [
    "# What was the change in stock price on the day of the Q2 2024 AirBnB earnings call?\n",
    "question = \"What was the change in stock price on the day of the Q2 2024 AirBnB earnings call?\"\n",
    "\n",
    "search_result = aryn_client.search(\n",
    "    docset_id=docset_id, \n",
    "    query=SearchRequest(\n",
    "        query=question,\n",
    "        query_type=\"lexical\",\n",
    "        return_type=\"element\",\n",
    "    )\n",
    ")\n",
    "\n",
    "texts = []\n",
    "for r in search_result.value.results:\n",
    "    r.pop(\"embedding\", None)\n",
    "    texts.append(str(r))\n",
    "\n",
    "messages = [RenderedMessage(role=\"user\", content=t) for t in texts]\n",
    "prompt = RenderedPrompt(messages=[RenderedMessage(role=\"user\", content=f\"Using the provided documents, answer the question: {question}\"), *messages])\n",
    "oai.generate(prompt = prompt)"
   ]
  },
  {
   "cell_type": "code",
   "execution_count": null,
   "id": "e5124b92-3593-4a82-bd84-cf084387de2c",
   "metadata": {},
   "outputs": [],
   "source": [
    "# List all the speakers in the MongoDB Q4 2024 earnings call.\n",
    "question = \"List all the speakers in the MongoDB Q4 2024 earnings call.\"\n",
    "\n",
    "\n",
    "search_result = aryn_client.search(\n",
    "    docset_id=docset_id, \n",
    "    query=SearchRequest(\n",
    "        query=question,\n",
    "        query_type=\"lexical\",\n",
    "        properties_filter=\"(properties.entity.earnings_call.company_ticker=\\\"MDB\\\") AND (properties.entity.earnings_call.quarter=\\\"Q4\\\")\",\n",
    "        return_type=\"element\",\n",
    "    )\n",
    ")\n",
    "\n",
    "texts = []\n",
    "for r in search_result.value.results:\n",
    "    r.pop(\"embedding\", None)\n",
    "    texts.append(str(r))\n",
    "\n",
    "messages = [RenderedMessage(role=\"user\", content=t) for t in texts]\n",
    "prompt = RenderedPrompt(messages=[RenderedMessage(role=\"user\", content=f\"Using the provided documents, answer the question: {question}\"), *messages])\n",
    "print(oai.generate(prompt=prompt))"
   ]
  },
  {
   "cell_type": "code",
   "execution_count": null,
   "id": "8c4d5dd3-8007-4355-8faa-5e3d1538cbc1",
   "metadata": {},
   "outputs": [],
   "source": [
    "# List all the speakers in the Broadcom Q4 2024 earnings call.\n",
    "question = \"List all the speakers in the Broadcom Q4 2024 earnings call.\"\n",
    "\n",
    "search_result = aryn_client.search(\n",
    "    docset_id=docset_id, \n",
    "    query=SearchRequest(\n",
    "        query=question,\n",
    "        query_type=\"lexical\",\n",
    "        return_type=\"element\",\n",
    "        properties_filter=\"(properties.entity.earnings_call.company_name=\\\"Broadcom\\\") AND (properties.entity.earnings_call.quarter=\\\"Q4\\\")\"\n",
    "    )\n",
    ")\n",
    "\n",
    "texts = []\n",
    "for r in search_result.value.results:\n",
    "    r.pop(\"embedding\", None)\n",
    "    texts.append(str(r))\n",
    "\n",
    "messages = [RenderedMessage(role=\"user\", content=t) for t in texts]\n",
    "prompt = RenderedPrompt(messages=[RenderedMessage(role=\"user\", content=f\"Using the provided documents, answer the question: {question}\"), *messages])\n",
    "print(oai.generate(prompt=prompt))"
   ]
  },
  {
   "cell_type": "code",
   "execution_count": null,
   "id": "9e4f3b27-a012-4c60-a175-46ed4b6495ab",
   "metadata": {},
   "outputs": [],
   "source": [
    "# How many customers did MongoDB have at the end of the Q1 2024 quarter?\n",
    "question = \"How many customers did MongoDB have at the end of the Q1 2024 quarter?\"\n",
    "\n",
    "search_result = aryn_client.search(\n",
    "    docset_id=docset_id, \n",
    "    query=SearchRequest(\n",
    "        query=question,\n",
    "        query_type=\"lexical\",\n",
    "        return_type=\"element\",\n",
    "    )\n",
    ")\n",
    "\n",
    "texts = []\n",
    "for r in search_result.value.results:\n",
    "    r.pop(\"embedding\", None)\n",
    "    texts.append(str(r))\n",
    "\n",
    "messages = [RenderedMessage(role=\"user\", content=t) for t in texts]\n",
    "prompt = RenderedPrompt(messages=[RenderedMessage(role=\"user\", content=f\"Using the provided documents, answer the question: {question}\"), *messages])\n",
    "print(oai.generate(prompt=prompt))"
   ]
  },
  {
   "cell_type": "code",
   "execution_count": null,
   "id": "bdcd5bb9-146b-476a-b7b1-f066f831f9dd",
   "metadata": {},
   "outputs": [],
   "source": [
    "# What was the first earnings call when Broadcom mentioned the VMWare acquistion?\n",
    "question = \"What was the first earnings call when Broadcom mentioned the VMWare acquistion?\"\n",
    "\n",
    "search_result = aryn_client.search(\n",
    "    docset_id=docset_id, \n",
    "    query=SearchRequest(\n",
    "        query=question,\n",
    "        query_type=\"lexical\",\n",
    "        return_type=\"element\",\n",
    "        properties_filter=\"(properties.entity.earnings_call.company_name=\\\"Broadcom\\\")\"\n",
    "    )\n",
    ")\n",
    "\n",
    "texts = []\n",
    "for r in search_result.value.results:\n",
    "    r.pop(\"embedding\", None)\n",
    "    texts.append(str(r))\n",
    "\n",
    "messages = [RenderedMessage(role=\"user\", content=t) for t in texts]\n",
    "prompt = RenderedPrompt(messages=[RenderedMessage(role=\"user\", content=f\"Using the provided documents, answer the question: {question}\"), *messages])\n",
    "print(oai.generate(prompt=prompt))"
   ]
  },
  {
   "cell_type": "code",
   "execution_count": null,
   "id": "07dbf756-eb1a-4095-ac47-0a17c0b35678",
   "metadata": {},
   "outputs": [],
   "source": [
    "# Summarize all the mergers and acquistions that happened in 2024 and give a breakdown of how each acquisition impacted earnings.\n",
    "question = \"Summarize all the mergers and acquistions that happened in 2024 and give a breakdown of how each acquisition impacted earnings.\"\n",
    "\n",
    "search_result = aryn_client.search(\n",
    "    docset_id=docset_id, \n",
    "    query=SearchRequest(\n",
    "        query=question,\n",
    "        query_type=\"lexical\",\n",
    "        return_type=\"element\",\n",
    "        # You'd probably filter by year to 2024 but all the data in this workshop is from 2024 so it don't matter\n",
    "    )\n",
    ")\n",
    "\n",
    "texts = []\n",
    "for r in search_result.value.results:\n",
    "    r.pop(\"embedding\", None)\n",
    "    texts.append(str(r))\n",
    "\n",
    "messages = [RenderedMessage(role=\"user\", content=t) for t in texts]\n",
    "prompt = RenderedPrompt(messages=[RenderedMessage(role=\"user\", content=f\"Using the provided documents, answer the question: {question}\"), *messages])\n",
    "print(oai.generate(prompt=prompt))"
   ]
  },
  {
   "cell_type": "code",
   "execution_count": null,
   "id": "19bad01d-1344-4d2e-a847-49387d0e2c00",
   "metadata": {},
   "outputs": [],
   "source": [
    "# Summarize how AI integration is progressing across each company's products. Give me a quarter by quarter break down of the progress per company and overall.\n",
    "question = \"Summarize how AI integration is progressing across each company's products. Give me a quarter by quarter break down of the progress per company and overall.\"\n",
    "\n",
    "search_result = aryn_client.search(\n",
    "    docset_id=docset_id, \n",
    "    query=SearchRequest(\n",
    "        query=question,\n",
    "        query_type=\"lexical\",\n",
    "        return_type=\"element\",\n",
    "    )\n",
    ")\n",
    "\n",
    "texts = []\n",
    "for r in search_result.value.results:\n",
    "    r.pop(\"embedding\", None)\n",
    "    texts.append(str(r))\n",
    "\n",
    "messages = [RenderedMessage(role=\"user\", content=t) for t in texts]\n",
    "prompt = RenderedPrompt(messages=[RenderedMessage(role=\"user\", content=f\"Using the provided documents, answer the question: {question}\"), *messages])\n",
    "print(oai.generate(prompt=prompt))"
   ]
  },
  {
   "cell_type": "code",
   "execution_count": null,
   "id": "9f48c8dc-391b-4ab2-ad84-bf3d0d6986e0",
   "metadata": {},
   "outputs": [],
   "source": [
    "# List all the companies that mentioned inflation and give me a count of the number of times each of the companies mentioned inflation.\n",
    "question = \"List all the companies that mentioned inflation and give me a count of the number of times each of the companies mentioned inflation.\"\n",
    "\n",
    "search_result = aryn_client.search(\n",
    "    docset_id=docset_id, \n",
    "    query=SearchRequest(\n",
    "        query=question,\n",
    "        query_type=\"vector\",\n",
    "        return_type=\"element\",\n",
    "    )\n",
    ")\n",
    "\n",
    "texts = []\n",
    "for r in search_result.value.results:\n",
    "    r.pop(\"embedding\", None)\n",
    "    texts.append(str(r))\n",
    "\n",
    "messages = [RenderedMessage(role=\"user\", content=t) for t in texts]\n",
    "prompt = RenderedPrompt(messages=[RenderedMessage(role=\"user\", content=f\"Using the provided documents, answer the question: {question}\"), *messages])\n",
    "print(oai.generate(prompt=prompt))"
   ]
  },
  {
   "cell_type": "code",
   "execution_count": null,
   "id": "badebf37-2d05-4190-be35-92f43c031a49",
   "metadata": {},
   "outputs": [],
   "source": []
  }
 ],
 "metadata": {
  "kernelspec": {
   "display_name": "Python 3 (ipykernel)",
   "language": "python",
   "name": "python3"
  },
  "language_info": {
   "codemirror_mode": {
    "name": "ipython",
    "version": 3
   },
   "file_extension": ".py",
   "mimetype": "text/x-python",
   "name": "python",
   "nbconvert_exporter": "python",
   "pygments_lexer": "ipython3",
   "version": "3.11.11"
  }
 },
 "nbformat": 4,
 "nbformat_minor": 5
}
